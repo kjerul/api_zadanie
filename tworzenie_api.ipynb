{
  "nbformat": 4,
  "nbformat_minor": 0,
  "metadata": {
    "colab": {
      "provenance": []
    },
    "kernelspec": {
      "name": "python3",
      "display_name": "Python 3"
    },
    "language_info": {
      "name": "python"
    }
  },
  "cells": [
    {
      "cell_type": "code",
      "execution_count": null,
      "metadata": {
        "id": "C5W5a83TCz4W"
      },
      "outputs": [],
      "source": [
        "%%file app.py\n",
        "from flask import Flask, request, jsonify\n",
        "\n",
        "app = Flask(__name__)\n",
        "\n",
        "@app.route('/')\n",
        "def home():\n",
        "    return 'Witaj w moim API!'\n",
        "\n",
        "@app.route('/mojastrona')\n",
        "def mojastrona():\n",
        "    return 'To jest moja strona!'\n",
        "\n",
        "@app.route('/hello')\n",
        "def hello():\n",
        "    name = request.args.get('name')\n",
        "    if name:\n",
        "        return f'Hello {name}!'\n",
        "    return 'Hello!'\n",
        "\n",
        "@app.route('/api/v1.0/predict')\n",
        "def predict():\n",
        "    try:\n",
        "        num1 = float(request.args.get('num1', 0))\n",
        "        num2 = float(request.args.get('num2', 0))\n",
        "\n",
        "        if num1 + num2 > 5.8:\n",
        "            result = 1\n",
        "        else:\n",
        "            result = 0\n",
        "\n",
        "        return jsonify({\n",
        "            'prediction': result,\n",
        "            'features': {\n",
        "                'num1': num1,\n",
        "                'num2': num2\n",
        "            }\n",
        "        })\n",
        "    except ValueError:\n",
        "        return jsonify({'error': 'num1 i num2 musza byc liczbami'}), 400\n",
        "\n",
        "if __name__ == '__main__':\n",
        "    app.run()\n"
      ]
    }
  ]
}