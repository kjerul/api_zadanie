{
 "cells": [
  {
   "cell_type": "code",
   "execution_count": 3,
   "id": "54fcd8d8-7e9d-45c0-b140-80807a5d413c",
   "metadata": {},
   "outputs": [],
   "source": [
    "import requests\n",
    "\n",
    "respose1 = requests.get(\"http://127.0.0.1:5000/\")\n",
    "respose2 = requests.get(\"http://127.0.0.1:5000/mojastrona\")\n",
    "response3 = requests.get(\"http://127.0.0.1:5000/mojastrona\")\n"
   ]
  },
  {
   "cell_type": "code",
   "execution_count": null,
   "id": "a51b36b8-5076-4f3b-abc8-491d5db3a569",
   "metadata": {},
   "outputs": [],
   "source": []
  }
 ],
 "metadata": {
  "kernelspec": {
   "display_name": "Python 3 (ipykernel)",
   "language": "python",
   "name": "python3"
  },
  "language_info": {
   "codemirror_mode": {
    "name": "ipython",
    "version": 3
   },
   "file_extension": ".py",
   "mimetype": "text/x-python",
   "name": "python",
   "nbconvert_exporter": "python",
   "pygments_lexer": "ipython3",
   "version": "3.11.6"
  }
 },
 "nbformat": 4,
 "nbformat_minor": 5
}
