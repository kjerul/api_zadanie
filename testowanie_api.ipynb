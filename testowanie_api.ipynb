{
  "nbformat": 4,
  "nbformat_minor": 0,
  "metadata": {
    "colab": {
      "provenance": []
    },
    "kernelspec": {
      "name": "python3",
      "display_name": "Python 3"
    },
    "language_info": {
      "name": "python"
    }
  },
  "cells": [
    {
      "cell_type": "code",
      "execution_count": null,
      "metadata": {
        "id": "C5W5a83TCz4W"
      },
      "outputs": [],
      "source": [
        "import requests\n",
        "\n",
        "response1 = requests.get(\"http://127.0.0.1:5000/\")\n",
        "response2 = requests.get(\"http://127.0.0.1:5000/mojastrona\")\n",
        "response3 = requests.get(\"http://127.0.0.1:5000/hello\")\n",
        "response4 = requests.get(\"http://127.0.0.1:5000/hello?name=Kacper\")\n",
        "response5 = requests.get(\"http://127.0.0.1:5000/api/v1.0/predict?num1=3&num2=4\")\n",
        "response6 = requests.get(\"http://127.0.0.1:5000/api/v1.0/predict?num1=1&num2=4\")\n",
        "response7 = requests.get(\"http://127.0.0.1:5000/api/v1.0/predict?num1=1&num2=ABCD\")\n",
        "\n"
      ]
    },
    {
      "cell_type": "code",
      "source": [
        "print(f\"Odpowiedz na glowna strone: {response1.text}\")\n",
        "print(f\"Odpowiedz na podstrone /mojastrona: {response2.text}\")\n",
        "print(f\"Odpowiedz na podstrone /hello: {response3.text}\")\n",
        "print(f\"Odpowiedz na podstrone /hello z argumentem name=Kacper: {response4.text}\")\n",
        "print(f\"API z argumentami num1=3 num2=4: {response5.json()}\")\n",
        "print(f\"API z argumentami num1=1 num2=4: {response6.json()}\")\n",
        "print(f\"API z argumentami num1=2 num2=ABCD: {response7.json()}\")\n",
        "\n",
        "\n",
        "\n"
      ],
      "metadata": {
        "id": "7NWBgzhiETK5"
      },
      "execution_count": null,
      "outputs": []
    }
  ]
}